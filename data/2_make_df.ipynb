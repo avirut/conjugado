{
 "cells": [
  {
   "cell_type": "code",
   "execution_count": 95,
   "metadata": {},
   "outputs": [],
   "source": [
    "import pandas as pd\n",
    "import numpy as np"
   ]
  },
  {
   "cell_type": "code",
   "execution_count": 96,
   "metadata": {},
   "outputs": [],
   "source": [
    "df = pd.read_json(\"allwords.json\")"
   ]
  },
  {
   "cell_type": "code",
   "execution_count": 97,
   "metadata": {},
   "outputs": [],
   "source": [
    "langs = ['en', 'es']"
   ]
  },
  {
   "cell_type": "code",
   "execution_count": 128,
   "metadata": {},
   "outputs": [],
   "source": [
    "en_pronouns = {'I': 1, 'you': 2, 'he/she': 3, 'we': 4, 'they': 6}\n",
    "es_pronouns = {'yo': 1, 'tú': 2, 'él/ella/Ud.': 3, 'Ud.': 3, 'nosotros': 4, 'vos': 5, 'vosotros': 5, 'ellos/ellas/Uds.': 6, 'Uds.': 6}"
   ]
  },
  {
   "cell_type": "code",
   "execution_count": 99,
   "metadata": {},
   "outputs": [],
   "source": [
    "es_paradigms = set(['infinitive'])\n",
    "for words in df['translations']:\n",
    "    for translation in words:\n",
    "        if 'spanConj' in translation:\n",
    "            for conj in translation['spanConj']:\n",
    "                es_paradigms.add(conj['paradigm'])\n",
    "                \n",
    "en_paradigms = set(['infinitive'])\n",
    "for words in df['engConj']:\n",
    "    for conj in words:\n",
    "        en_paradigms.add(conj['paradigm'])"
   ]
  },
  {
   "cell_type": "code",
   "execution_count": 100,
   "metadata": {},
   "outputs": [],
   "source": [
    "data = pd.DataFrame(columns=pd.MultiIndex.from_product([langs, es_paradigms, list(en_pronouns.values())]))"
   ]
  },
  {
   "cell_type": "code",
   "execution_count": 144,
   "metadata": {},
   "outputs": [],
   "source": [
    "all_rows = []\n",
    "\n",
    "for ind, row in df.iterrows():\n",
    "    data_row = {}\n",
    "    en_conj = row['engConj']\n",
    "    for conj in en_conj:\n",
    "        data_row[('en', conj['paradigm'], en_pronouns[conj['pronoun']])] = conj['word']\n",
    "    for i in [1,2,3,4,6]:\n",
    "        data_row[('en', 'infinitive', i)] = row['engWord']\n",
    "        \n",
    "    for translation in row['translations']:\n",
    "        if 'spanConj' not in translation:\n",
    "            continue\n",
    "        \n",
    "        enes_row = data_row.copy()\n",
    "        for conj in translation['spanConj']:\n",
    "            enes_row[('es', conj['paradigm'], es_pronouns[conj['pronoun']])] = conj['word']\n",
    "        for i in [1,2,3,4,6]:\n",
    "            enes_row[('es', 'infinitive', i)] = translation['meaning']\n",
    "            \n",
    "        all_rows.append(enes_row)"
   ]
  },
  {
   "cell_type": "code",
   "execution_count": 146,
   "metadata": {},
   "outputs": [],
   "source": [
    "data = data.append(all_rows, ignore_index=True)"
   ]
  },
  {
   "cell_type": "code",
   "execution_count": 147,
   "metadata": {},
   "outputs": [],
   "source": [
    "data.to_csv(\"220417_enes_conjugations.csv\", index=False)"
   ]
  },
  {
   "cell_type": "code",
   "execution_count": null,
   "metadata": {},
   "outputs": [],
   "source": []
  }
 ],
 "metadata": {
  "kernelspec": {
   "display_name": "Python 3",
   "language": "python",
   "name": "python3"
  },
  "language_info": {
   "codemirror_mode": {
    "name": "ipython",
    "version": 3
   },
   "file_extension": ".py",
   "mimetype": "text/x-python",
   "name": "python",
   "nbconvert_exporter": "python",
   "pygments_lexer": "ipython3",
   "version": "3.8.5"
  }
 },
 "nbformat": 4,
 "nbformat_minor": 4
}
